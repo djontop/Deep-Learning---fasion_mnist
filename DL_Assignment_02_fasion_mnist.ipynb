{
  "nbformat": 4,
  "nbformat_minor": 0,
  "metadata": {
    "colab": {
      "provenance": [],
      "authorship_tag": "ABX9TyM6TaXyWRPHDaZHMyFCOjjR",
      "include_colab_link": true
    },
    "kernelspec": {
      "name": "python3",
      "display_name": "Python 3"
    },
    "language_info": {
      "name": "python"
    }
  },
  "cells": [
    {
      "cell_type": "markdown",
      "metadata": {
        "id": "view-in-github",
        "colab_type": "text"
      },
      "source": [
        "<a href=\"https://colab.research.google.com/github/djontop/Deep-Learning---fasion_mnist/blob/main/DL_Assignment_02_fasion_mnist.ipynb\" target=\"_parent\"><img src=\"https://colab.research.google.com/assets/colab-badge.svg\" alt=\"Open In Colab\"/></a>"
      ]
    },
    {
      "cell_type": "code",
      "execution_count": null,
      "metadata": {
        "id": "3VIXEqffOLQS"
      },
      "outputs": [],
      "source": [
        "import numpy as np\n",
        "import pandas as pd"
      ]
    },
    {
      "cell_type": "code",
      "source": [
        "from keras.datasets import fashion_mnist"
      ],
      "metadata": {
        "id": "p7o62KCcQNjI"
      },
      "execution_count": null,
      "outputs": []
    },
    {
      "cell_type": "code",
      "source": [
        "(x_train, y_train), (x_test, y_test) = fashion_mnist.load_data()"
      ],
      "metadata": {
        "colab": {
          "base_uri": "https://localhost:8080/"
        },
        "id": "ylNUBMRQQUrI",
        "outputId": "96024cde-cc60-4a69-9697-d530794af042"
      },
      "execution_count": null,
      "outputs": [
        {
          "output_type": "stream",
          "name": "stdout",
          "text": [
            "Downloading data from https://storage.googleapis.com/tensorflow/tf-keras-datasets/train-labels-idx1-ubyte.gz\n",
            "29515/29515 [==============================] - 0s 0us/step\n",
            "Downloading data from https://storage.googleapis.com/tensorflow/tf-keras-datasets/train-images-idx3-ubyte.gz\n",
            "26421880/26421880 [==============================] - 0s 0us/step\n",
            "Downloading data from https://storage.googleapis.com/tensorflow/tf-keras-datasets/t10k-labels-idx1-ubyte.gz\n",
            "5148/5148 [==============================] - 0s 0us/step\n",
            "Downloading data from https://storage.googleapis.com/tensorflow/tf-keras-datasets/t10k-images-idx3-ubyte.gz\n",
            "4422102/4422102 [==============================] - 0s 0us/step\n"
          ]
        }
      ]
    },
    {
      "cell_type": "code",
      "source": [
        "x_train.shape"
      ],
      "metadata": {
        "colab": {
          "base_uri": "https://localhost:8080/"
        },
        "id": "RdkooTw9QZkg",
        "outputId": "f818ff8e-7343-4ea3-d83c-d52cf1965546"
      },
      "execution_count": null,
      "outputs": [
        {
          "output_type": "execute_result",
          "data": {
            "text/plain": [
              "(60000, 28, 28)"
            ]
          },
          "metadata": {},
          "execution_count": 4
        }
      ]
    },
    {
      "cell_type": "code",
      "source": [
        "y_train.shape"
      ],
      "metadata": {
        "colab": {
          "base_uri": "https://localhost:8080/"
        },
        "id": "GUIX-DttQbFw",
        "outputId": "fae3523c-c3d1-41ea-9760-f7e7c2814192"
      },
      "execution_count": null,
      "outputs": [
        {
          "output_type": "execute_result",
          "data": {
            "text/plain": [
              "(60000,)"
            ]
          },
          "metadata": {},
          "execution_count": 5
        }
      ]
    },
    {
      "cell_type": "code",
      "source": [
        "y_encoded = pd.get_dummies(y_train).replace({False : 0, True : 1})\n",
        "y_test_encoded = pd.get_dummies(y_test).replace({False : 0, True : 1})"
      ],
      "metadata": {
        "id": "aBSHru-sQcpQ"
      },
      "execution_count": null,
      "outputs": []
    },
    {
      "cell_type": "code",
      "source": [
        "from matplotlib import pyplot as plt"
      ],
      "metadata": {
        "id": "u3rg5UhTQh8Q"
      },
      "execution_count": null,
      "outputs": []
    },
    {
      "cell_type": "code",
      "source": [
        "plt.imshow(x_train[4])\n",
        "plt.show()"
      ],
      "metadata": {
        "colab": {
          "base_uri": "https://localhost:8080/",
          "height": 430
        },
        "id": "Vpv4OMrWQk24",
        "outputId": "20819b6d-4857-4847-cb7b-3fff06aad19f"
      },
      "execution_count": null,
      "outputs": [
        {
          "output_type": "display_data",
          "data": {
            "text/plain": [
              "<Figure size 640x480 with 1 Axes>"
            ],
            "image/png": "[encoded data removed]"
          },
          "metadata": {}
        }
      ]
    },
    {
      "cell_type": "code",
      "source": [
        "import math\n",
        "def to_norm(arr: np.array):\n",
        "    mean = np.mean(arr)\n",
        "    std = np.std(arr)\n",
        "    eps = pow(math.e, -10)\n",
        "    zscore = (mean - arr) / (std + eps)\n",
        "    return zscore"
      ],
      "metadata": {
        "id": "neTN8zdcQz9Q"
      },
      "execution_count": null,
      "outputs": []
    },
    {
      "cell_type": "code",
      "source": [
        "y_lables = {\n",
        "    0 : \"tshirt\",\n",
        "    1 : \"trouser\",\n",
        "    2 : \"pullover\",\n",
        "    3 : \"dress\",\n",
        "    4 : \"coat\",\n",
        "    5 : \"sandle\",\n",
        "    6 : \"shirt\",\n",
        "    7 : \"sneaker\",\n",
        "    8 : \"bag\",\n",
        "    9 : \"ankle boot\"\n",
        "}"
      ],
      "metadata": {
        "id": "cQ3KJ2YMQ1Zi"
      },
      "execution_count": null,
      "outputs": []
    },
    {
      "cell_type": "markdown",
      "source": [
        "*italicized text*"
      ],
      "metadata": {
        "id": "2X-HOUQQQNao"
      }
    },
    {
      "cell_type": "code",
      "source": [
        "x_train.shape"
      ],
      "metadata": {
        "colab": {
          "base_uri": "https://localhost:8080/"
        },
        "id": "t97upbOdQ7A5",
        "outputId": "1bdbed57-38bb-4105-fd8b-0704d69e5599"
      },
      "execution_count": null,
      "outputs": [
        {
          "output_type": "execute_result",
          "data": {
            "text/plain": [
              "(60000, 28, 28)"
            ]
          },
          "metadata": {},
          "execution_count": 12
        }
      ]
    },
    {
      "cell_type": "code",
      "source": [
        "from keras.models import Sequential\n",
        "from keras import layers"
      ],
      "metadata": {
        "id": "tYFwvi_bQ9o4"
      },
      "execution_count": null,
      "outputs": []
    },
    {
      "cell_type": "code",
      "source": [
        "model = Sequential()"
      ],
      "metadata": {
        "id": "ypPpVJfpRDHP"
      },
      "execution_count": null,
      "outputs": []
    },
    {
      "cell_type": "code",
      "source": [
        "# cnn\n",
        "model.add(layers.Conv2D(32, (3,3),activation='relu', input_shape=(28,28,1)))\n",
        "model.add(layers.MaxPool2D((2,2)))\n",
        "model.add(layers.Conv2D(64, (3,3), activation='relu'))\n",
        "model.add(layers.MaxPool2D((2,2)))\n",
        "model.add(layers.Flatten())\n",
        "\n",
        "# fully connected neural network\n",
        "model.add(layers.Dense(64, activation='relu'))\n",
        "model.add(layers.Dense(10, activation='softmax'))"
      ],
      "metadata": {
        "id": "mue6iEqcRL3B"
      },
      "execution_count": null,
      "outputs": []
    },
    {
      "cell_type": "code",
      "source": [
        "model.compile(optimizer='adam', loss='categorical_crossentropy', metrics=['accuracy'])"
      ],
      "metadata": {
        "id": "YQOxSOEsRSoA"
      },
      "execution_count": null,
      "outputs": []
    },
    {
      "cell_type": "code",
      "source": [
        "model.fit(x_train, y_encoded, epochs=20)"
      ],
      "metadata": {
        "colab": {
          "base_uri": "https://localhost:8080/"
        },
        "id": "7gtBdl3MRUMA",
        "outputId": "63df35ee-cf37-470f-f9bd-165e810ebafb"
      },
      "execution_count": null,
      "outputs": [
        {
          "output_type": "stream",
          "name": "stdout",
          "text": [
            "Epoch 1/20\n",
            "1875/1875 [==============================] - 44s 24ms/step - loss: 0.1860 - accuracy: 0.9302\n",
            "Epoch 2/20\n",
            "1875/1875 [==============================] - 44s 23ms/step - loss: 0.1780 - accuracy: 0.9330\n",
            "Epoch 3/20\n",
            "1875/1875 [==============================] - 45s 24ms/step - loss: 0.1678 - accuracy: 0.9372\n",
            "Epoch 4/20\n",
            "1875/1875 [==============================] - 44s 23ms/step - loss: 0.1644 - accuracy: 0.9388\n",
            "Epoch 5/20\n",
            "1875/1875 [==============================] - 45s 24ms/step - loss: 0.1566 - accuracy: 0.9418\n",
            "Epoch 6/20\n",
            "1875/1875 [==============================] - 45s 24ms/step - loss: 0.1495 - accuracy: 0.9447\n",
            "Epoch 7/20\n",
            "1875/1875 [==============================] - 43s 23ms/step - loss: 0.1485 - accuracy: 0.9460\n",
            "Epoch 8/20\n",
            "1875/1875 [==============================] - 45s 24ms/step - loss: 0.1441 - accuracy: 0.9472\n",
            "Epoch 9/20\n",
            "1875/1875 [==============================] - 44s 23ms/step - loss: 0.1368 - accuracy: 0.9506\n",
            "Epoch 10/20\n",
            "1875/1875 [==============================] - 44s 24ms/step - loss: 0.1349 - accuracy: 0.9510\n",
            "Epoch 11/20\n",
            "1875/1875 [==============================] - 52s 28ms/step - loss: 0.1316 - accuracy: 0.9524\n",
            "Epoch 12/20\n",
            "1875/1875 [==============================] - 47s 25ms/step - loss: 0.1222 - accuracy: 0.9548\n",
            "Epoch 13/20\n",
            "1875/1875 [==============================] - 44s 24ms/step - loss: 0.1235 - accuracy: 0.9546\n",
            "Epoch 14/20\n",
            "1875/1875 [==============================] - 44s 23ms/step - loss: 0.1244 - accuracy: 0.9554\n",
            "Epoch 15/20\n",
            "1875/1875 [==============================] - 45s 24ms/step - loss: 0.1160 - accuracy: 0.9574\n",
            "Epoch 16/20\n",
            "1875/1875 [==============================] - 43s 23ms/step - loss: 0.1171 - accuracy: 0.9571\n",
            "Epoch 17/20\n",
            "1875/1875 [==============================] - 43s 23ms/step - loss: 0.1169 - accuracy: 0.9581\n",
            "Epoch 18/20\n",
            "1875/1875 [==============================] - 43s 23ms/step - loss: 0.1117 - accuracy: 0.9600\n",
            "Epoch 19/20\n",
            "1875/1875 [==============================] - 44s 23ms/step - loss: 0.1106 - accuracy: 0.9611\n",
            "Epoch 20/20\n",
            "1875/1875 [==============================] - 44s 23ms/step - loss: 0.1187 - accuracy: 0.9598\n"
          ]
        },
        {
          "output_type": "execute_result",
          "data": {
            "text/plain": [
              "<keras.src.callbacks.History at 0x7bd6267160e0>"
            ]
          },
          "metadata": {},
          "execution_count": 18
        }
      ]
    },
    {
      "cell_type": "code",
      "source": [
        "loss, acuraccy = model.evaluate(x_test, y_test_encoded)"
      ],
      "metadata": {
        "colab": {
          "base_uri": "https://localhost:8080/"
        },
        "id": "5ZdeZ3YtXRKs",
        "outputId": "0df4930a-7c6d-4eed-cbba-15bd174c07b3"
      },
      "execution_count": null,
      "outputs": [
        {
          "output_type": "stream",
          "name": "stdout",
          "text": [
            "313/313 [==============================] - 2s 7ms/step - loss: 0.6294 - accuracy: 0.8861\n"
          ]
        }
      ]
    },
    {
      "cell_type": "code",
      "source": [
        "print(\"loss \", loss)\n",
        "print(\"accuracy \", acuraccy)"
      ],
      "metadata": {
        "colab": {
          "base_uri": "https://localhost:8080/"
        },
        "id": "lKjjy_uxXSO4",
        "outputId": "f8b5f96e-a55d-476a-efef-6c0e0af79825"
      },
      "execution_count": null,
      "outputs": [
        {
          "output_type": "stream",
          "name": "stdout",
          "text": [
            "loss  0.6293722987174988\n",
            "accuracy  0.8860999941825867\n"
          ]
        }
      ]
    },
    {
      "cell_type": "code",
      "source": [
        "test_idx = 4343\n",
        "test_case = x_train[test_idx]"
      ],
      "metadata": {
        "id": "KDHj-iG2XTPD"
      },
      "execution_count": null,
      "outputs": []
    },
    {
      "cell_type": "code",
      "source": [
        "plt.imshow(test_case)\n",
        "plt.show()"
      ],
      "metadata": {
        "colab": {
          "base_uri": "https://localhost:8080/",
          "height": 430
        },
        "id": "qTgntrJcXUWU",
        "outputId": "a7165715-b8cf-4c84-9d94-58e6d5752a38"
      },
      "execution_count": null,
      "outputs": [
        {
          "output_type": "display_data",
          "data": {
            "text/plain": [
              "<Figure size 640x480 with 1 Axes>"
            ],
            "image/png": "[encoded data removed]"
          },
          "metadata": {}
        }
      ]
    },
    {
      "cell_type": "code",
      "source": [
        "pred = model.predict(np.array(test_case).reshape(1,28,28))\n",
        "np.argmax(pred)\n",
        "y_lables[np.argmax(pred)]"
      ],
      "metadata": {
        "colab": {
          "base_uri": "https://localhost:8080/",
          "height": 53
        },
        "id": "scYtp8XHXVYe",
        "outputId": "e6db9e5d-9351-409a-af46-9b3325dae64e"
      },
      "execution_count": null,
      "outputs": [
        {
          "output_type": "stream",
          "name": "stdout",
          "text": [
            "1/1 [==============================] - 0s 105ms/step\n"
          ]
        },
        {
          "output_type": "execute_result",
          "data": {
            "text/plain": [
              "'coat'"
            ],
            "application/vnd.google.colaboratory.intrinsic+json": {
              "type": "string"
            }
          },
          "metadata": {},
          "execution_count": 23
        }
      ]
    },
    {
      "cell_type": "markdown",
      "source": [],
      "metadata": {
        "id": "1mUtc0_yXUR_"
      }
    }
  ]
}